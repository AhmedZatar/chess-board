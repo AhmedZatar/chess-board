{
 "cells": [
  {
   "cell_type": "code",
   "execution_count": 1,
   "metadata": {},
   "outputs": [],
   "source": [
    "%matplotlib inline\n",
    "import matplotlib.pyplot as plt\n",
    "import matplotlib.image as mpimg\n",
    "import numpy as np\n",
    "from random import random"
   ]
  },
  {
   "cell_type": "code",
   "execution_count": 39,
   "metadata": {},
   "outputs": [],
   "source": [
    "class ChessBoard:\n",
    "    def __init__(self):\n",
    "        self.grid=np.ones((8,8,3))\n",
    "        self.red=[0,0]\n",
    "        self.blue=[0,0]\n",
    "        for i in range(len(self.grid)):\n",
    "            for j in range(len(self.grid)):\n",
    "                if i%2 == 0 and j%2==1:\n",
    "                    self.grid[i,j]=[0,0,0]\n",
    "                if i%2 == 1 and j%2 ==0:\n",
    "                    self.grid[i,j]=[0,0,0]\n",
    "    def add_red(self,row,column):\n",
    "        self.grid[row,column]=[1,.2,0]\n",
    "        self.red=[row,column]\n",
    "    def add_blue(self,row,column):\n",
    "        self.grid[row,column]=[0,1,1]\n",
    "        self.blue=[row,column]\n",
    "    def render(self):\n",
    "        plt.imshow(self.grid)\n",
    "        \n",
    "    def is_under_attack(self):\n",
    "        \n",
    "        if self.blue[0]==self.red[0] or self.blue[1]==self.red[1]:\n",
    "            return True\n",
    "        if abs(self.blue[0]-self.red[0])==abs(self.blue[1]-self.red[1]):\n",
    "            return True\n",
    "               \n",
    "        return False\n",
    "        \n",
    "        \n",
    "        \n",
    "    \n",
    "    \n",
    "        \n",
    "        \n"
   ]
  },
  {
   "cell_type": "code",
   "execution_count": 61,
   "metadata": {},
   "outputs": [
    {
     "name": "stdout",
     "output_type": "stream",
     "text": [
      "Test pass\n",
      "Under Attack\n"
     ]
    },
    {
     "data": {
      "image/png": "[encoded data removed]",
      "text/plain": [
       "<Figure size 432x288 with 1 Axes>"
      ]
     },
     "metadata": {
      "needs_background": "light"
     },
     "output_type": "display_data"
    }
   ],
   "source": [
    "def test_same_row():\n",
    "    chess = ChessBoard()\n",
    "    chess.add_red(5,3)\n",
    "    chess.add_blue(5,1)\n",
    "    chess.render()\n",
    "    assert chess.is_under_attack() == True\n",
    "    print('Test pass')\n",
    "    print('Under Attack')\n",
    "\n",
    "test_same_row()\n",
    "    "
   ]
  },
  {
   "cell_type": "code",
   "execution_count": 64,
   "metadata": {},
   "outputs": [
    {
     "name": "stdout",
     "output_type": "stream",
     "text": [
      "Test pass\n",
      "Under Attack\n"
     ]
    },
    {
     "data": {
      "image/png": "[encoded data removed]",
      "text/plain": [
       "<Figure size 432x288 with 1 Axes>"
      ]
     },
     "metadata": {
      "needs_background": "light"
     },
     "output_type": "display_data"
    }
   ],
   "source": [
    "def test_same_column():\n",
    "    chess = ChessBoard()\n",
    "    chess.add_red(3,1)\n",
    "    chess.add_blue(7,1)\n",
    "    chess.render()\n",
    "    assert chess.is_under_attack() == True\n",
    "    print('Test pass')\n",
    "    print('Under Attack')\n",
    "\n",
    "test_same_column()"
   ]
  },
  {
   "cell_type": "code",
   "execution_count": 68,
   "metadata": {},
   "outputs": [
    {
     "name": "stdout",
     "output_type": "stream",
     "text": [
      "Test pass\n",
      "Under Attack\n"
     ]
    },
    {
     "data": {
      "image/png": "[encoded data removed]",
      "text/plain": [
       "<Figure size 432x288 with 1 Axes>"
      ]
     },
     "metadata": {
      "needs_background": "light"
     },
     "output_type": "display_data"
    }
   ],
   "source": [
    "def test_same_diagonal():\n",
    "    chess = ChessBoard()\n",
    "    chess.add_red(5,3)\n",
    "    chess.add_blue(3,1)\n",
    "    chess.render()\n",
    "    assert chess.is_under_attack() == True\n",
    "    print('Test pass')\n",
    "    print('Under Attack')\n",
    "\n",
    "test_same_diagonal()"
   ]
  },
  {
   "cell_type": "code",
   "execution_count": 70,
   "metadata": {},
   "outputs": [
    {
     "name": "stdout",
     "output_type": "stream",
     "text": [
      "Test pass\n",
      "Not Under Attack\n"
     ]
    },
    {
     "data": {
      "image/png": "[encoded data removed]",
      "text/plain": [
       "<Figure size 432x288 with 1 Axes>"
      ]
     },
     "metadata": {
      "needs_background": "light"
     },
     "output_type": "display_data"
    }
   ],
   "source": [
    "def test_not_under_arrack():\n",
    "    chess = ChessBoard()\n",
    "    chess.add_red(5,3)\n",
    "    chess.add_blue(2,1)\n",
    "    chess.render()\n",
    "    assert chess.is_under_attack() == False\n",
    "    print('Test pass')\n",
    "    print('Not Under Attack')\n",
    "\n",
    "test_not_under_arrack()"
   ]
  },
  {
   "cell_type": "code",
   "execution_count": null,
   "metadata": {},
   "outputs": [],
   "source": []
  }
 ],
 "metadata": {
  "interpreter": {
   "hash": "bc59dc55526f33d66309afcd410769f233dab81d870dabfce875eeb56f37ea91"
  },
  "kernelspec": {
   "display_name": "Python 3",
   "language": "python",
   "name": "python3"
  },
  "language_info": {
   "codemirror_mode": {
    "name": "ipython",
    "version": 3
   },
   "file_extension": ".py",
   "mimetype": "text/x-python",
   "name": "python",
   "nbconvert_exporter": "python",
   "pygments_lexer": "ipython3",
   "version": "3.9.4"
  }
 },
 "nbformat": 4,
 "nbformat_minor": 4
}
